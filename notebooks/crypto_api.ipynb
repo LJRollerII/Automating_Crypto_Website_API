{
 "cells": [
  {
   "cell_type": "code",
   "execution_count": null,
   "id": "afd7de8b",
   "metadata": {},
   "outputs": [],
   "source": [
    "import requests\n",
    "from requests import Request, Session\n",
    "from requests.exceptions import ConnectionError, Timeout, TooManyRedirects\n",
    "import json\n",
    "\n",
    "with open('header.json') as fi:\n",
    "    credentials = json.load(fi)\n",
    "\n",
    "header = credentials['header']\n",
    "\n",
    "url = 'https://pro-api.coinmarketcap.com/v1/cryptocurrency/listings/latest' \n",
    "\n",
    "parameters = {\n",
    "    'start':'1',\n",
    "    'limit':'5000',\n",
    "    'convert':'USD'\n",
    "}\n",
    "\n",
    "session = Session()\n",
    "session.headers.update(header = header)\n",
    "\n",
    "try:\n",
    "    response = session.get(url, params=parameters)\n",
    "    data = json.loads(response.text)\n",
    "    print(data)\n",
    "except (ConnectionError, Timeout, TooManyRedirects) as e:\n",
    "    print(e)"
   ]
  },
  {
   "cell_type": "code",
   "execution_count": null,
   "id": "c95c5aac",
   "metadata": {},
   "outputs": [],
   "source": [
    "type(data)"
   ]
  },
  {
   "cell_type": "code",
   "execution_count": null,
   "id": "993a61fb",
   "metadata": {},
   "outputs": [],
   "source": [
    "import pandas as pd \n",
    "\n",
    "#This allows you to see all the columns\n",
    "pd.set_option('display.max_columns', None)\n",
    "pd.set_option('display.max_rows', None)"
   ]
  },
  {
   "cell_type": "code",
   "execution_count": null,
   "id": "dfb3566d",
   "metadata": {},
   "outputs": [],
   "source": [
    "#This normalizes the data and makes it all organized in a dataframe\n",
    "\n",
    "df = pd.json_normalize(data['data'])\n",
    "df['timestamp'] = pd.to_datetime('now')\n",
    "df"
   ]
  },
  {
   "cell_type": "markdown",
   "id": "c797b164",
   "metadata": {},
   "source": [
    "# Function to automate the data pull"
   ]
  },
  {
   "cell_type": "code",
   "execution_count": null,
   "id": "c50727a6",
   "metadata": {},
   "outputs": [],
   "source": [
    "def api_runner():\n",
    "    global df\n",
    "    url = 'https://pro-api.coinmarketcap.com/v1/cryptocurrency/listings/latest' \n",
    "    \n",
    "    parameters = {\n",
    "    'start':'1',\n",
    "    'limit':'15',\n",
    "    'convert':'USD'\n",
    "    }\n",
    "\n",
    "    session = Session()\n",
    "    session.headers.update(header = header)\n",
    "    \n",
    "    try:\n",
    "    response = session.get(url, params=parameters)\n",
    "    data = json.loads(response.text)\n",
    "    print(data)\n",
    "    except (ConnectionError, Timeout, TooManyRedirects) as e:\n",
    "    print(e)\n",
    "\n",
    "    df2 = pd.json_normalize(data['data'])\n",
    "    df2['timestamp'] = pd.to_datetime('now')\n",
    "    df = df.append(df2)\n"
   ]
  },
  {
   "cell_type": "code",
   "execution_count": null,
   "id": "dfe61e79",
   "metadata": {},
   "outputs": [],
   "source": [
    "import os\n",
    "from time import time\n",
    "from timw import sleep\n",
    "\n",
    "for i in range(333): # We only get 333 runs per day via website protocol\n",
    "    api_runner()\n",
    "    print('API Run Succesfully Completed!')\n",
    "    sleep(60) # Run every 60 sec / Sleep for 1 min\n",
    "exit()        "
   ]
  }
 ],
 "metadata": {
  "kernelspec": {
   "display_name": "Python 3 (ipykernel)",
   "language": "python",
   "name": "python3"
  },
  "language_info": {
   "codemirror_mode": {
    "name": "ipython",
    "version": 3
   },
   "file_extension": ".py",
   "mimetype": "text/x-python",
   "name": "python",
   "nbconvert_exporter": "python",
   "pygments_lexer": "ipython3",
   "version": "3.9.7"
  }
 },
 "nbformat": 4,
 "nbformat_minor": 5
}
